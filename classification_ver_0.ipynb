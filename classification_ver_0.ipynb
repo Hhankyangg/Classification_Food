{
  "cells": [
    {
      "cell_type": "markdown",
      "metadata": {
        "id": "qV5vUu5XkLAO"
      },
      "source": [
        "# FOOD IMAGE CLASSFICATION\n",
        "\n",
        "食物图片分类"
      ]
    },
    {
      "cell_type": "code",
      "execution_count": null,
      "metadata": {
        "colab": {
          "base_uri": "https://localhost:8080/"
        },
        "id": "VIfNV3wRkLAS",
        "outputId": "5538a628-8268-461b-d3b7-20094c095d3e"
      },
      "outputs": [
        {
          "name": "stdout",
          "output_type": "stream",
          "text": [
            "Mounted at /content/drive\n"
          ]
        }
      ],
      "source": [
        "from google.colab import drive\n",
        "drive.mount('/content/drive')\n",
        "!unzip -q /content/drive/MyDrive/ML2022/food-11.zip"
      ]
    },
    {
      "cell_type": "markdown",
      "metadata": {
        "id": "OH26Q7txkLAT"
      },
      "source": [
        "## 导入包"
      ]
    },
    {
      "cell_type": "code",
      "execution_count": null,
      "metadata": {
        "id": "n0DD7lEEkLAU"
      },
      "outputs": [],
      "source": [
        "import numpy as np\n",
        "import torch\n",
        "import torch.nn as nn\n",
        "import torchvision.transforms as transforms\n",
        "from PIL import Image\n",
        "from torch.utils.data import DataLoader\n",
        "from torchvision.datasets import DatasetFolder\n",
        "from tqdm import tqdm\n",
        "import matplotlib.pyplot as plt"
      ]
    },
    {
      "cell_type": "markdown",
      "metadata": {
        "id": "1zEtCVeqkLAU"
      },
      "source": [
        "## 数据集的导入"
      ]
    },
    {
      "cell_type": "markdown",
      "metadata": {
        "id": "ZeNm3kCPkLAV"
      },
      "source": [
        "### Augmentation"
      ]
    },
    {
      "cell_type": "code",
      "execution_count": null,
      "metadata": {
        "id": "KnGz4K1OkLAV"
      },
      "outputs": [],
      "source": [
        "train_tfm = transforms.Compose([\n",
        "    transforms.CenterCrop(224),\n",
        "    transforms.ToTensor(),\n",
        "])\n",
        "\n",
        "test_tfm = transforms.Compose([\n",
        "    transforms.CenterCrop(224),\n",
        "    transforms.ToTensor(),\n",
        "    transforms.Normalize([0.485, 0.456, 0.406], [0.229, 0.224, 0.225]),\n",
        "])"
      ]
    },
    {
      "cell_type": "markdown",
      "metadata": {
        "id": "_v1nzeZdkLAV"
      },
      "source": [
        "### `Dataset` & `DataLoader`"
      ]
    },
    {
      "cell_type": "code",
      "execution_count": null,
      "metadata": {
        "id": "ieqf4fIakLAV"
      },
      "outputs": [],
      "source": [
        "batch_size = 128\n",
        "\n",
        "train_set = DatasetFolder(\"food-11/training/labeled\", loader=lambda x: Image.open(x), extensions=\"jpg\", transform=train_tfm)\n",
        "valid_set = DatasetFolder(\"food-11/validation\", loader=lambda x: Image.open(x), extensions=\"jpg\", transform=test_tfm)\n",
        "test_set = DatasetFolder(\"food-11/testing\", loader=lambda x: Image.open(x), extensions=\"jpg\", transform=test_tfm)\n",
        "\n",
        "train_loader = DataLoader(train_set, batch_size=batch_size, shuffle=True, pin_memory=True)\n",
        "valid_loader = DataLoader(valid_set, batch_size=batch_size, shuffle=True, pin_memory=True)\n",
        "test_loader = DataLoader(test_set, batch_size=batch_size, shuffle=False)"
      ]
    },
    {
      "cell_type": "markdown",
      "metadata": {
        "id": "0WoYiyQ3kLAW"
      },
      "source": [
        "## 模型设置"
      ]
    },
    {
      "cell_type": "markdown",
      "metadata": {
        "id": "1WMmX3bFkLAW"
      },
      "source": [
        "### 简单 CNN"
      ]
    },
    {
      "cell_type": "code",
      "execution_count": null,
      "metadata": {
        "id": "WpkeRjIhkLAX"
      },
      "outputs": [],
      "source": [
        "class Classifier(nn.Module):\n",
        "    def __init__(self):\n",
        "        super(Classifier, self).__init__()\n",
        "        # torch.nn.Conv2d(in_channels, out_channels, kernel_size, stride, padding)\n",
        "        # torch.nn.MaxPool2d(kernel_size, stride, padding)\n",
        "        # n = (W - kernel_size + 2 * padding) / stride + 1\n",
        "\n",
        "        # input image size: [3, 224, 224]\n",
        "        self.cnn_layers = nn.Sequential(\n",
        "            nn.Conv2d(3, 64, 3, 1, 1),\n",
        "            nn.BatchNorm2d(64),\n",
        "            nn.ReLU(),\n",
        "            nn.MaxPool2d(2, 2, 0),\n",
        "\n",
        "            nn.Conv2d(64, 128, 3, 1, 1),\n",
        "            nn.BatchNorm2d(128),\n",
        "            nn.ReLU(),\n",
        "            nn.MaxPool2d(2, 2, 0),\n",
        "\n",
        "            nn.Conv2d(128, 256, 3, 1, 1),\n",
        "            nn.BatchNorm2d(256),\n",
        "            nn.ReLU(),\n",
        "            nn.MaxPool2d(4, 4, 0),\n",
        "        )\n",
        "        self.fc_layers = nn.Sequential(\n",
        "            nn.Linear(256 * 14 * 14, 256),\n",
        "            nn.ReLU(),\n",
        "            nn.Linear(256, 256),\n",
        "            nn.ReLU(),\n",
        "            nn.Linear(256, 11)\n",
        "        )\n",
        "\n",
        "    def forward(self, x):\n",
        "        # input (x): [batch_size, 3, 224, 224]\n",
        "        # output: [batch_size, 11]\n",
        "\n",
        "        # Extract features by convolutional layers.\n",
        "        x = self.cnn_layers(x)\n",
        "\n",
        "        # The extracted feature map must be flatten before going to fully-connected layers.\n",
        "        x = x.flatten(1)\n",
        "\n",
        "        # The features are transformed by fully-connected layers to obtain the final logits.\n",
        "        x = self.fc_layers(x)\n",
        "        return x"
      ]
    },
    {
      "cell_type": "markdown",
      "metadata": {
        "id": "kzubzci1kLAX"
      },
      "source": [
        "### Config"
      ]
    },
    {
      "cell_type": "code",
      "execution_count": null,
      "metadata": {
        "id": "5maxV88lkLAY"
      },
      "outputs": [],
      "source": [
        "device = \"cuda\" if torch.cuda.is_available() else \"cpu\"\n",
        "\n",
        "# Initialize a model, and put it on the device specified.\n",
        "model = Classifier().to(device)\n",
        "model.device = device\n",
        "\n",
        "criterion = nn.CrossEntropyLoss()\n",
        "optimizer = torch.optim.Adam(model.parameters(), lr=0.0003, weight_decay=1e-5)\n",
        "\n",
        "# The number of training epochs.\n",
        "n_epochs = 100"
      ]
    },
    {
      "cell_type": "markdown",
      "metadata": {
        "id": "HIrxFGuokLAY"
      },
      "source": [
        "## 训练"
      ]
    },
    {
      "cell_type": "code",
      "execution_count": null,
      "metadata": {
        "colab": {
          "background_save": true,
          "base_uri": "https://localhost:8080/"
        },
        "id": "ZuHh6lYJkLAY",
        "outputId": "a99c81d4-4585-407f-a0f1-7c06d9e37479"
      },
      "outputs": [
        {
          "name": "stderr",
          "output_type": "stream",
          "text": [
            "100%|██████████| 25/25 [00:12<00:00,  2.02it/s]\n"
          ]
        },
        {
          "name": "stdout",
          "output_type": "stream",
          "text": [
            "[ Train | 001/100 ] loss = 2.70709, acc = 0.16437\n"
          ]
        },
        {
          "name": "stderr",
          "output_type": "stream",
          "text": [
            "100%|██████████| 6/6 [00:02<00:00,  2.25it/s]\n"
          ]
        },
        {
          "name": "stdout",
          "output_type": "stream",
          "text": [
            "[ BEST Valid acc | 001/100 ] loss = 3.16860, acc = 0.18906\n"
          ]
        },
        {
          "name": "stderr",
          "output_type": "stream",
          "text": [
            "100%|██████████| 25/25 [00:12<00:00,  2.05it/s]\n"
          ]
        },
        {
          "name": "stdout",
          "output_type": "stream",
          "text": [
            "[ Train | 002/100 ] loss = 1.99226, acc = 0.28062\n"
          ]
        },
        {
          "name": "stderr",
          "output_type": "stream",
          "text": [
            "100%|██████████| 6/6 [00:02<00:00,  2.39it/s]\n",
            "100%|██████████| 25/25 [00:12<00:00,  2.03it/s]\n"
          ]
        },
        {
          "name": "stdout",
          "output_type": "stream",
          "text": [
            "[ Train | 003/100 ] loss = 1.89130, acc = 0.33531\n"
          ]
        },
        {
          "name": "stderr",
          "output_type": "stream",
          "text": [
            "100%|██████████| 6/6 [00:02<00:00,  2.43it/s]\n"
          ]
        },
        {
          "name": "stdout",
          "output_type": "stream",
          "text": [
            "[ BEST Valid acc | 003/100 ] loss = 7.97834, acc = 0.22969\n"
          ]
        },
        {
          "name": "stderr",
          "output_type": "stream",
          "text": [
            "100%|██████████| 25/25 [00:12<00:00,  2.04it/s]\n"
          ]
        },
        {
          "name": "stdout",
          "output_type": "stream",
          "text": [
            "[ Train | 004/100 ] loss = 1.77952, acc = 0.37000\n"
          ]
        },
        {
          "name": "stderr",
          "output_type": "stream",
          "text": [
            "100%|██████████| 6/6 [00:02<00:00,  2.44it/s]\n",
            "100%|██████████| 25/25 [00:12<00:00,  2.03it/s]\n"
          ]
        },
        {
          "name": "stdout",
          "output_type": "stream",
          "text": [
            "[ Train | 005/100 ] loss = 1.61020, acc = 0.44656\n"
          ]
        },
        {
          "name": "stderr",
          "output_type": "stream",
          "text": [
            "100%|██████████| 6/6 [00:02<00:00,  2.31it/s]\n",
            "100%|██████████| 25/25 [00:12<00:00,  2.06it/s]\n"
          ]
        },
        {
          "name": "stdout",
          "output_type": "stream",
          "text": [
            "[ Train | 006/100 ] loss = 1.54198, acc = 0.46469\n"
          ]
        },
        {
          "name": "stderr",
          "output_type": "stream",
          "text": [
            "100%|██████████| 6/6 [00:02<00:00,  2.35it/s]\n",
            "100%|██████████| 25/25 [00:12<00:00,  2.05it/s]\n"
          ]
        },
        {
          "name": "stdout",
          "output_type": "stream",
          "text": [
            "[ Train | 007/100 ] loss = 1.39017, acc = 0.54188\n"
          ]
        },
        {
          "name": "stderr",
          "output_type": "stream",
          "text": [
            "100%|██████████| 6/6 [00:02<00:00,  2.37it/s]\n",
            "100%|██████████| 25/25 [00:12<00:00,  2.06it/s]\n"
          ]
        },
        {
          "name": "stdout",
          "output_type": "stream",
          "text": [
            "[ Train | 008/100 ] loss = 1.21895, acc = 0.59969\n"
          ]
        },
        {
          "name": "stderr",
          "output_type": "stream",
          "text": [
            "100%|██████████| 6/6 [00:02<00:00,  2.39it/s]\n",
            "100%|██████████| 25/25 [00:12<00:00,  2.02it/s]\n"
          ]
        },
        {
          "name": "stdout",
          "output_type": "stream",
          "text": [
            "[ Train | 009/100 ] loss = 1.12199, acc = 0.62062\n"
          ]
        },
        {
          "name": "stderr",
          "output_type": "stream",
          "text": [
            "100%|██████████| 6/6 [00:02<00:00,  2.43it/s]\n"
          ]
        },
        {
          "name": "stdout",
          "output_type": "stream",
          "text": [
            "[ BEST Valid acc | 009/100 ] loss = 13.00376, acc = 0.23281\n"
          ]
        },
        {
          "name": "stderr",
          "output_type": "stream",
          "text": [
            "100%|██████████| 25/25 [00:12<00:00,  2.05it/s]\n"
          ]
        },
        {
          "name": "stdout",
          "output_type": "stream",
          "text": [
            "[ Train | 010/100 ] loss = 0.97557, acc = 0.68656\n"
          ]
        },
        {
          "name": "stderr",
          "output_type": "stream",
          "text": [
            "100%|██████████| 6/6 [00:02<00:00,  2.42it/s]\n",
            "100%|██████████| 25/25 [00:12<00:00,  2.05it/s]\n"
          ]
        },
        {
          "name": "stdout",
          "output_type": "stream",
          "text": [
            "[ Train | 011/100 ] loss = 0.87769, acc = 0.71156\n"
          ]
        },
        {
          "name": "stderr",
          "output_type": "stream",
          "text": [
            "100%|██████████| 6/6 [00:02<00:00,  2.37it/s]\n",
            "100%|██████████| 25/25 [00:12<00:00,  2.07it/s]\n"
          ]
        },
        {
          "name": "stdout",
          "output_type": "stream",
          "text": [
            "[ Train | 012/100 ] loss = 0.70699, acc = 0.78156\n"
          ]
        },
        {
          "name": "stderr",
          "output_type": "stream",
          "text": [
            "100%|██████████| 6/6 [00:02<00:00,  2.40it/s]\n",
            "100%|██████████| 25/25 [00:12<00:00,  2.07it/s]\n"
          ]
        },
        {
          "name": "stdout",
          "output_type": "stream",
          "text": [
            "[ Train | 013/100 ] loss = 0.60324, acc = 0.80281\n"
          ]
        },
        {
          "name": "stderr",
          "output_type": "stream",
          "text": [
            "100%|██████████| 6/6 [00:02<00:00,  2.41it/s]\n",
            "100%|██████████| 25/25 [00:12<00:00,  2.05it/s]\n"
          ]
        },
        {
          "name": "stdout",
          "output_type": "stream",
          "text": [
            "[ Train | 014/100 ] loss = 0.50331, acc = 0.84750\n"
          ]
        },
        {
          "name": "stderr",
          "output_type": "stream",
          "text": [
            "100%|██████████| 6/6 [00:02<00:00,  2.40it/s]\n",
            "100%|██████████| 25/25 [00:12<00:00,  2.05it/s]\n"
          ]
        },
        {
          "name": "stdout",
          "output_type": "stream",
          "text": [
            "[ Train | 015/100 ] loss = 0.42428, acc = 0.87500\n"
          ]
        },
        {
          "name": "stderr",
          "output_type": "stream",
          "text": [
            "100%|██████████| 6/6 [00:02<00:00,  2.43it/s]\n"
          ]
        },
        {
          "name": "stdout",
          "output_type": "stream",
          "text": [
            "[ BEST Valid acc | 015/100 ] loss = 14.89803, acc = 0.25495\n"
          ]
        },
        {
          "name": "stderr",
          "output_type": "stream",
          "text": [
            "100%|██████████| 25/25 [00:12<00:00,  2.05it/s]\n"
          ]
        },
        {
          "name": "stdout",
          "output_type": "stream",
          "text": [
            "[ Train | 016/100 ] loss = 0.42740, acc = 0.87469\n"
          ]
        },
        {
          "name": "stderr",
          "output_type": "stream",
          "text": [
            "100%|██████████| 6/6 [00:02<00:00,  2.25it/s]\n",
            "100%|██████████| 25/25 [00:12<00:00,  2.02it/s]\n"
          ]
        },
        {
          "name": "stdout",
          "output_type": "stream",
          "text": [
            "[ Train | 017/100 ] loss = 0.33294, acc = 0.91094\n"
          ]
        },
        {
          "name": "stderr",
          "output_type": "stream",
          "text": [
            "100%|██████████| 6/6 [00:02<00:00,  2.37it/s]\n",
            "100%|██████████| 25/25 [00:12<00:00,  2.05it/s]\n"
          ]
        },
        {
          "name": "stdout",
          "output_type": "stream",
          "text": [
            "[ Train | 018/100 ] loss = 0.22328, acc = 0.94406\n"
          ]
        },
        {
          "name": "stderr",
          "output_type": "stream",
          "text": [
            "100%|██████████| 6/6 [00:02<00:00,  2.42it/s]\n",
            "100%|██████████| 25/25 [00:12<00:00,  2.05it/s]\n"
          ]
        },
        {
          "name": "stdout",
          "output_type": "stream",
          "text": [
            "[ Train | 019/100 ] loss = 0.17750, acc = 0.95875\n"
          ]
        },
        {
          "name": "stderr",
          "output_type": "stream",
          "text": [
            "100%|██████████| 6/6 [00:02<00:00,  2.39it/s]\n",
            "100%|██████████| 25/25 [00:12<00:00,  2.04it/s]\n"
          ]
        },
        {
          "name": "stdout",
          "output_type": "stream",
          "text": [
            "[ Train | 020/100 ] loss = 0.11581, acc = 0.98312\n"
          ]
        },
        {
          "name": "stderr",
          "output_type": "stream",
          "text": [
            "100%|██████████| 6/6 [00:02<00:00,  2.35it/s]\n",
            "100%|██████████| 25/25 [00:12<00:00,  2.07it/s]\n"
          ]
        },
        {
          "name": "stdout",
          "output_type": "stream",
          "text": [
            "[ Train | 021/100 ] loss = 0.12346, acc = 0.96969\n"
          ]
        },
        {
          "name": "stderr",
          "output_type": "stream",
          "text": [
            "100%|██████████| 6/6 [00:02<00:00,  2.29it/s]\n",
            "100%|██████████| 25/25 [00:12<00:00,  2.03it/s]\n"
          ]
        },
        {
          "name": "stdout",
          "output_type": "stream",
          "text": [
            "[ Train | 022/100 ] loss = 0.10125, acc = 0.97781\n"
          ]
        },
        {
          "name": "stderr",
          "output_type": "stream",
          "text": [
            "100%|██████████| 6/6 [00:02<00:00,  2.45it/s]\n",
            "100%|██████████| 25/25 [00:12<00:00,  2.07it/s]\n"
          ]
        },
        {
          "name": "stdout",
          "output_type": "stream",
          "text": [
            "[ Train | 023/100 ] loss = 0.08225, acc = 0.98656\n"
          ]
        },
        {
          "name": "stderr",
          "output_type": "stream",
          "text": [
            "100%|██████████| 6/6 [00:02<00:00,  2.40it/s]\n",
            "100%|██████████| 25/25 [00:12<00:00,  2.06it/s]\n"
          ]
        },
        {
          "name": "stdout",
          "output_type": "stream",
          "text": [
            "[ Train | 024/100 ] loss = 0.05305, acc = 0.99125\n"
          ]
        },
        {
          "name": "stderr",
          "output_type": "stream",
          "text": [
            "100%|██████████| 6/6 [00:02<00:00,  2.40it/s]\n",
            "100%|██████████| 25/25 [00:12<00:00,  2.02it/s]\n"
          ]
        },
        {
          "name": "stdout",
          "output_type": "stream",
          "text": [
            "[ Train | 025/100 ] loss = 0.08698, acc = 0.97938\n"
          ]
        },
        {
          "name": "stderr",
          "output_type": "stream",
          "text": [
            "100%|██████████| 6/6 [00:02<00:00,  2.34it/s]\n",
            "100%|██████████| 25/25 [00:12<00:00,  2.05it/s]\n"
          ]
        },
        {
          "name": "stdout",
          "output_type": "stream",
          "text": [
            "[ Train | 026/100 ] loss = 0.07621, acc = 0.98531\n"
          ]
        },
        {
          "name": "stderr",
          "output_type": "stream",
          "text": [
            "100%|██████████| 6/6 [00:02<00:00,  2.40it/s]\n",
            "100%|██████████| 25/25 [00:12<00:00,  2.05it/s]\n"
          ]
        },
        {
          "name": "stdout",
          "output_type": "stream",
          "text": [
            "[ Train | 027/100 ] loss = 0.05323, acc = 0.99187\n"
          ]
        },
        {
          "name": "stderr",
          "output_type": "stream",
          "text": [
            "100%|██████████| 6/6 [00:02<00:00,  2.41it/s]\n",
            "100%|██████████| 25/25 [00:12<00:00,  2.04it/s]\n"
          ]
        },
        {
          "name": "stdout",
          "output_type": "stream",
          "text": [
            "[ Train | 028/100 ] loss = 0.03464, acc = 0.99687\n"
          ]
        },
        {
          "name": "stderr",
          "output_type": "stream",
          "text": [
            "100%|██████████| 6/6 [00:02<00:00,  2.37it/s]\n",
            "100%|██████████| 25/25 [00:12<00:00,  2.05it/s]\n"
          ]
        },
        {
          "name": "stdout",
          "output_type": "stream",
          "text": [
            "[ Train | 029/100 ] loss = 0.04972, acc = 0.99094\n"
          ]
        },
        {
          "name": "stderr",
          "output_type": "stream",
          "text": [
            "100%|██████████| 6/6 [00:02<00:00,  2.29it/s]\n",
            "100%|██████████| 25/25 [00:12<00:00,  2.05it/s]\n"
          ]
        },
        {
          "name": "stdout",
          "output_type": "stream",
          "text": [
            "[ Train | 030/100 ] loss = 0.04013, acc = 0.98937\n"
          ]
        },
        {
          "name": "stderr",
          "output_type": "stream",
          "text": [
            "100%|██████████| 6/6 [00:02<00:00,  2.42it/s]\n",
            "100%|██████████| 25/25 [00:12<00:00,  2.06it/s]\n"
          ]
        },
        {
          "name": "stdout",
          "output_type": "stream",
          "text": [
            "[ Train | 031/100 ] loss = 0.06856, acc = 0.98469\n"
          ]
        },
        {
          "name": "stderr",
          "output_type": "stream",
          "text": [
            "100%|██████████| 6/6 [00:02<00:00,  2.38it/s]\n",
            "100%|██████████| 25/25 [00:12<00:00,  2.04it/s]\n"
          ]
        },
        {
          "name": "stdout",
          "output_type": "stream",
          "text": [
            "[ Train | 032/100 ] loss = 0.09132, acc = 0.97406\n"
          ]
        },
        {
          "name": "stderr",
          "output_type": "stream",
          "text": [
            "100%|██████████| 6/6 [00:02<00:00,  2.45it/s]\n",
            "100%|██████████| 25/25 [00:12<00:00,  2.06it/s]\n"
          ]
        },
        {
          "name": "stdout",
          "output_type": "stream",
          "text": [
            "[ Train | 033/100 ] loss = 0.08992, acc = 0.97719\n"
          ]
        },
        {
          "name": "stderr",
          "output_type": "stream",
          "text": [
            "100%|██████████| 6/6 [00:02<00:00,  2.25it/s]\n",
            "100%|██████████| 25/25 [00:12<00:00,  2.06it/s]\n"
          ]
        },
        {
          "name": "stdout",
          "output_type": "stream",
          "text": [
            "[ Train | 034/100 ] loss = 0.06027, acc = 0.98500\n"
          ]
        },
        {
          "name": "stderr",
          "output_type": "stream",
          "text": [
            "100%|██████████| 6/6 [00:02<00:00,  2.41it/s]\n",
            "100%|██████████| 25/25 [00:12<00:00,  2.06it/s]\n"
          ]
        },
        {
          "name": "stdout",
          "output_type": "stream",
          "text": [
            "[ Train | 035/100 ] loss = 0.04195, acc = 0.99375\n"
          ]
        },
        {
          "name": "stderr",
          "output_type": "stream",
          "text": [
            "100%|██████████| 6/6 [00:02<00:00,  2.38it/s]\n",
            "100%|██████████| 25/25 [00:12<00:00,  2.01it/s]\n"
          ]
        },
        {
          "name": "stdout",
          "output_type": "stream",
          "text": [
            "[ Train | 036/100 ] loss = 0.04550, acc = 0.98750\n"
          ]
        },
        {
          "name": "stderr",
          "output_type": "stream",
          "text": [
            "100%|██████████| 6/6 [00:02<00:00,  2.39it/s]\n",
            "100%|██████████| 25/25 [00:12<00:00,  2.07it/s]\n"
          ]
        },
        {
          "name": "stdout",
          "output_type": "stream",
          "text": [
            "[ Train | 037/100 ] loss = 0.03755, acc = 0.99281\n"
          ]
        },
        {
          "name": "stderr",
          "output_type": "stream",
          "text": [
            "100%|██████████| 6/6 [00:02<00:00,  2.36it/s]\n",
            "100%|██████████| 25/25 [00:12<00:00,  2.05it/s]\n"
          ]
        },
        {
          "name": "stdout",
          "output_type": "stream",
          "text": [
            "[ Train | 038/100 ] loss = 0.01558, acc = 0.99906\n"
          ]
        },
        {
          "name": "stderr",
          "output_type": "stream",
          "text": [
            "100%|██████████| 6/6 [00:02<00:00,  2.39it/s]\n",
            "100%|██████████| 25/25 [00:12<00:00,  2.04it/s]\n"
          ]
        },
        {
          "name": "stdout",
          "output_type": "stream",
          "text": [
            "[ Train | 039/100 ] loss = 0.01646, acc = 0.99469\n"
          ]
        },
        {
          "name": "stderr",
          "output_type": "stream",
          "text": [
            "100%|██████████| 6/6 [00:02<00:00,  2.38it/s]\n",
            "100%|██████████| 25/25 [00:12<00:00,  2.05it/s]\n"
          ]
        },
        {
          "name": "stdout",
          "output_type": "stream",
          "text": [
            "[ Train | 040/100 ] loss = 0.02784, acc = 0.99312\n"
          ]
        },
        {
          "name": "stderr",
          "output_type": "stream",
          "text": [
            "100%|██████████| 6/6 [00:02<00:00,  2.27it/s]\n",
            "100%|██████████| 25/25 [00:12<00:00,  2.05it/s]\n"
          ]
        },
        {
          "name": "stdout",
          "output_type": "stream",
          "text": [
            "[ Train | 041/100 ] loss = 0.01524, acc = 0.99875\n"
          ]
        },
        {
          "name": "stderr",
          "output_type": "stream",
          "text": [
            "100%|██████████| 6/6 [00:02<00:00,  2.30it/s]\n",
            "100%|██████████| 25/25 [00:12<00:00,  2.06it/s]\n"
          ]
        },
        {
          "name": "stdout",
          "output_type": "stream",
          "text": [
            "[ Train | 042/100 ] loss = 0.01360, acc = 0.99875\n"
          ]
        },
        {
          "name": "stderr",
          "output_type": "stream",
          "text": [
            "100%|██████████| 6/6 [00:02<00:00,  2.41it/s]\n",
            "100%|██████████| 25/25 [00:12<00:00,  2.06it/s]\n"
          ]
        },
        {
          "name": "stdout",
          "output_type": "stream",
          "text": [
            "[ Train | 043/100 ] loss = 0.01887, acc = 0.99719\n"
          ]
        },
        {
          "name": "stderr",
          "output_type": "stream",
          "text": [
            "100%|██████████| 6/6 [00:02<00:00,  2.42it/s]\n",
            "100%|██████████| 25/25 [00:12<00:00,  2.06it/s]\n"
          ]
        },
        {
          "name": "stdout",
          "output_type": "stream",
          "text": [
            "[ Train | 044/100 ] loss = 0.02299, acc = 0.99437\n"
          ]
        },
        {
          "name": "stderr",
          "output_type": "stream",
          "text": [
            "100%|██████████| 6/6 [00:02<00:00,  2.43it/s]\n",
            "100%|██████████| 25/25 [00:12<00:00,  2.07it/s]\n"
          ]
        },
        {
          "name": "stdout",
          "output_type": "stream",
          "text": [
            "[ Train | 045/100 ] loss = 0.04775, acc = 0.98594\n"
          ]
        },
        {
          "name": "stderr",
          "output_type": "stream",
          "text": [
            "100%|██████████| 6/6 [00:02<00:00,  2.37it/s]\n",
            "100%|██████████| 25/25 [00:12<00:00,  2.06it/s]\n"
          ]
        },
        {
          "name": "stdout",
          "output_type": "stream",
          "text": [
            "[ Train | 046/100 ] loss = 0.01903, acc = 0.99687\n"
          ]
        },
        {
          "name": "stderr",
          "output_type": "stream",
          "text": [
            "100%|██████████| 6/6 [00:02<00:00,  2.43it/s]\n",
            "100%|██████████| 25/25 [00:12<00:00,  2.06it/s]\n"
          ]
        },
        {
          "name": "stdout",
          "output_type": "stream",
          "text": [
            "[ Train | 047/100 ] loss = 0.00739, acc = 0.99906\n"
          ]
        },
        {
          "name": "stderr",
          "output_type": "stream",
          "text": [
            "100%|██████████| 6/6 [00:02<00:00,  2.47it/s]\n",
            "100%|██████████| 25/25 [00:12<00:00,  2.06it/s]\n"
          ]
        },
        {
          "name": "stdout",
          "output_type": "stream",
          "text": [
            "[ Train | 048/100 ] loss = 0.00497, acc = 1.00000\n"
          ]
        },
        {
          "name": "stderr",
          "output_type": "stream",
          "text": [
            "100%|██████████| 6/6 [00:02<00:00,  2.42it/s]\n",
            "100%|██████████| 25/25 [00:12<00:00,  2.05it/s]\n"
          ]
        },
        {
          "name": "stdout",
          "output_type": "stream",
          "text": [
            "[ Train | 049/100 ] loss = 0.05000, acc = 0.98219\n"
          ]
        },
        {
          "name": "stderr",
          "output_type": "stream",
          "text": [
            "100%|██████████| 6/6 [00:02<00:00,  2.31it/s]\n",
            "100%|██████████| 25/25 [00:12<00:00,  2.04it/s]\n"
          ]
        },
        {
          "name": "stdout",
          "output_type": "stream",
          "text": [
            "[ Train | 050/100 ] loss = 0.07084, acc = 0.97688\n"
          ]
        },
        {
          "name": "stderr",
          "output_type": "stream",
          "text": [
            "100%|██████████| 6/6 [00:02<00:00,  2.26it/s]\n",
            "100%|██████████| 25/25 [00:12<00:00,  2.06it/s]\n"
          ]
        },
        {
          "name": "stdout",
          "output_type": "stream",
          "text": [
            "[ Train | 051/100 ] loss = 0.09431, acc = 0.97062\n"
          ]
        },
        {
          "name": "stderr",
          "output_type": "stream",
          "text": [
            "100%|██████████| 6/6 [00:02<00:00,  2.42it/s]\n",
            "100%|██████████| 25/25 [00:12<00:00,  2.05it/s]\n"
          ]
        },
        {
          "name": "stdout",
          "output_type": "stream",
          "text": [
            "[ Train | 052/100 ] loss = 0.08538, acc = 0.97094\n"
          ]
        },
        {
          "name": "stderr",
          "output_type": "stream",
          "text": [
            "100%|██████████| 6/6 [00:02<00:00,  2.47it/s]\n",
            "100%|██████████| 25/25 [00:12<00:00,  2.04it/s]\n"
          ]
        },
        {
          "name": "stdout",
          "output_type": "stream",
          "text": [
            "[ Train | 053/100 ] loss = 0.03325, acc = 0.98781\n"
          ]
        },
        {
          "name": "stderr",
          "output_type": "stream",
          "text": [
            "100%|██████████| 6/6 [00:02<00:00,  2.40it/s]\n",
            "100%|██████████| 25/25 [00:12<00:00,  2.05it/s]\n"
          ]
        },
        {
          "name": "stdout",
          "output_type": "stream",
          "text": [
            "[ Train | 054/100 ] loss = 0.03090, acc = 0.99312\n"
          ]
        },
        {
          "name": "stderr",
          "output_type": "stream",
          "text": [
            "100%|██████████| 6/6 [00:02<00:00,  2.37it/s]\n",
            "100%|██████████| 25/25 [00:12<00:00,  2.05it/s]\n"
          ]
        },
        {
          "name": "stdout",
          "output_type": "stream",
          "text": [
            "[ Train | 055/100 ] loss = 0.01393, acc = 0.99750\n"
          ]
        },
        {
          "name": "stderr",
          "output_type": "stream",
          "text": [
            "100%|██████████| 6/6 [00:02<00:00,  2.40it/s]\n",
            "100%|██████████| 25/25 [00:12<00:00,  2.04it/s]\n"
          ]
        },
        {
          "name": "stdout",
          "output_type": "stream",
          "text": [
            "[ Train | 056/100 ] loss = 0.00785, acc = 0.99969\n"
          ]
        },
        {
          "name": "stderr",
          "output_type": "stream",
          "text": [
            "100%|██████████| 6/6 [00:02<00:00,  2.24it/s]\n",
            "100%|██████████| 25/25 [00:12<00:00,  2.06it/s]\n"
          ]
        },
        {
          "name": "stdout",
          "output_type": "stream",
          "text": [
            "[ Train | 057/100 ] loss = 0.09871, acc = 0.97062\n"
          ]
        },
        {
          "name": "stderr",
          "output_type": "stream",
          "text": [
            "100%|██████████| 6/6 [00:02<00:00,  2.37it/s]\n",
            "100%|██████████| 25/25 [00:12<00:00,  2.05it/s]\n"
          ]
        },
        {
          "name": "stdout",
          "output_type": "stream",
          "text": [
            "[ Train | 058/100 ] loss = 0.05008, acc = 0.98375\n"
          ]
        },
        {
          "name": "stderr",
          "output_type": "stream",
          "text": [
            "100%|██████████| 6/6 [00:02<00:00,  2.41it/s]\n",
            "100%|██████████| 25/25 [00:12<00:00,  2.01it/s]\n"
          ]
        },
        {
          "name": "stdout",
          "output_type": "stream",
          "text": [
            "[ Train | 059/100 ] loss = 0.03268, acc = 0.98687\n"
          ]
        },
        {
          "name": "stderr",
          "output_type": "stream",
          "text": [
            "100%|██████████| 6/6 [00:02<00:00,  2.43it/s]\n",
            "100%|██████████| 25/25 [00:12<00:00,  2.05it/s]\n"
          ]
        },
        {
          "name": "stdout",
          "output_type": "stream",
          "text": [
            "[ Train | 060/100 ] loss = 0.03970, acc = 0.98750\n"
          ]
        },
        {
          "name": "stderr",
          "output_type": "stream",
          "text": [
            "100%|██████████| 6/6 [00:02<00:00,  2.46it/s]\n",
            "100%|██████████| 25/25 [00:12<00:00,  2.05it/s]\n"
          ]
        },
        {
          "name": "stdout",
          "output_type": "stream",
          "text": [
            "[ Train | 061/100 ] loss = 0.05767, acc = 0.98438\n"
          ]
        },
        {
          "name": "stderr",
          "output_type": "stream",
          "text": [
            "100%|██████████| 6/6 [00:02<00:00,  2.28it/s]\n",
            "100%|██████████| 25/25 [00:12<00:00,  2.05it/s]\n"
          ]
        },
        {
          "name": "stdout",
          "output_type": "stream",
          "text": [
            "[ Train | 062/100 ] loss = 0.03442, acc = 0.99406\n"
          ]
        },
        {
          "name": "stderr",
          "output_type": "stream",
          "text": [
            "100%|██████████| 6/6 [00:02<00:00,  2.42it/s]\n",
            "100%|██████████| 25/25 [00:12<00:00,  2.03it/s]\n"
          ]
        },
        {
          "name": "stdout",
          "output_type": "stream",
          "text": [
            "[ Train | 063/100 ] loss = 0.04743, acc = 0.98375\n"
          ]
        },
        {
          "name": "stderr",
          "output_type": "stream",
          "text": [
            "100%|██████████| 6/6 [00:02<00:00,  2.37it/s]\n",
            "100%|██████████| 25/25 [00:12<00:00,  2.06it/s]\n"
          ]
        },
        {
          "name": "stdout",
          "output_type": "stream",
          "text": [
            "[ Train | 064/100 ] loss = 0.02746, acc = 0.99250\n"
          ]
        },
        {
          "name": "stderr",
          "output_type": "stream",
          "text": [
            "100%|██████████| 6/6 [00:02<00:00,  2.37it/s]\n",
            "100%|██████████| 25/25 [00:12<00:00,  2.05it/s]\n"
          ]
        },
        {
          "name": "stdout",
          "output_type": "stream",
          "text": [
            "[ Train | 065/100 ] loss = 0.09845, acc = 0.96812\n"
          ]
        },
        {
          "name": "stderr",
          "output_type": "stream",
          "text": [
            "100%|██████████| 6/6 [00:02<00:00,  2.25it/s]\n",
            "100%|██████████| 25/25 [00:12<00:00,  2.01it/s]\n"
          ]
        },
        {
          "name": "stdout",
          "output_type": "stream",
          "text": [
            "[ Train | 066/100 ] loss = 0.06398, acc = 0.98750\n"
          ]
        },
        {
          "name": "stderr",
          "output_type": "stream",
          "text": [
            "100%|██████████| 6/6 [00:02<00:00,  2.42it/s]\n",
            "100%|██████████| 25/25 [00:12<00:00,  2.07it/s]\n"
          ]
        },
        {
          "name": "stdout",
          "output_type": "stream",
          "text": [
            "[ Train | 067/100 ] loss = 0.04521, acc = 0.98500\n"
          ]
        },
        {
          "name": "stderr",
          "output_type": "stream",
          "text": [
            "100%|██████████| 6/6 [00:02<00:00,  2.22it/s]\n",
            "100%|██████████| 25/25 [00:12<00:00,  2.03it/s]\n"
          ]
        },
        {
          "name": "stdout",
          "output_type": "stream",
          "text": [
            "[ Train | 068/100 ] loss = 0.05030, acc = 0.98875\n"
          ]
        },
        {
          "name": "stderr",
          "output_type": "stream",
          "text": [
            "100%|██████████| 6/6 [00:02<00:00,  2.44it/s]\n",
            "100%|██████████| 25/25 [00:12<00:00,  2.03it/s]\n"
          ]
        },
        {
          "name": "stdout",
          "output_type": "stream",
          "text": [
            "[ Train | 069/100 ] loss = 0.02320, acc = 0.99219\n"
          ]
        },
        {
          "name": "stderr",
          "output_type": "stream",
          "text": [
            "100%|██████████| 6/6 [00:02<00:00,  2.28it/s]\n",
            "100%|██████████| 25/25 [00:12<00:00,  2.05it/s]\n"
          ]
        },
        {
          "name": "stdout",
          "output_type": "stream",
          "text": [
            "[ Train | 070/100 ] loss = 0.00542, acc = 0.99937\n"
          ]
        },
        {
          "name": "stderr",
          "output_type": "stream",
          "text": [
            "100%|██████████| 6/6 [00:02<00:00,  2.37it/s]\n",
            "100%|██████████| 25/25 [00:12<00:00,  2.01it/s]\n"
          ]
        },
        {
          "name": "stdout",
          "output_type": "stream",
          "text": [
            "[ Train | 071/100 ] loss = 0.00193, acc = 1.00000\n"
          ]
        },
        {
          "name": "stderr",
          "output_type": "stream",
          "text": [
            "100%|██████████| 6/6 [00:02<00:00,  2.46it/s]\n",
            "100%|██████████| 25/25 [00:12<00:00,  2.02it/s]\n"
          ]
        },
        {
          "name": "stdout",
          "output_type": "stream",
          "text": [
            "[ Train | 072/100 ] loss = 0.00284, acc = 0.99969\n"
          ]
        },
        {
          "name": "stderr",
          "output_type": "stream",
          "text": [
            "100%|██████████| 6/6 [00:02<00:00,  2.45it/s]\n",
            "100%|██████████| 25/25 [00:12<00:00,  2.04it/s]\n"
          ]
        },
        {
          "name": "stdout",
          "output_type": "stream",
          "text": [
            "[ Train | 073/100 ] loss = 0.00176, acc = 1.00000\n"
          ]
        },
        {
          "name": "stderr",
          "output_type": "stream",
          "text": [
            "100%|██████████| 6/6 [00:02<00:00,  2.31it/s]\n",
            "100%|██████████| 25/25 [00:12<00:00,  2.02it/s]\n"
          ]
        },
        {
          "name": "stdout",
          "output_type": "stream",
          "text": [
            "[ Train | 074/100 ] loss = 0.00086, acc = 1.00000\n"
          ]
        },
        {
          "name": "stderr",
          "output_type": "stream",
          "text": [
            "100%|██████████| 6/6 [00:02<00:00,  2.36it/s]\n",
            "100%|██████████| 25/25 [00:12<00:00,  2.04it/s]\n"
          ]
        },
        {
          "name": "stdout",
          "output_type": "stream",
          "text": [
            "[ Train | 075/100 ] loss = 0.00067, acc = 1.00000\n"
          ]
        },
        {
          "name": "stderr",
          "output_type": "stream",
          "text": [
            "100%|██████████| 6/6 [00:02<00:00,  2.40it/s]\n",
            "100%|██████████| 25/25 [00:12<00:00,  2.04it/s]\n"
          ]
        },
        {
          "name": "stdout",
          "output_type": "stream",
          "text": [
            "[ Train | 076/100 ] loss = 0.00071, acc = 1.00000\n"
          ]
        },
        {
          "name": "stderr",
          "output_type": "stream",
          "text": [
            "100%|██████████| 6/6 [00:02<00:00,  2.43it/s]\n",
            "100%|██████████| 25/25 [00:12<00:00,  2.07it/s]\n"
          ]
        },
        {
          "name": "stdout",
          "output_type": "stream",
          "text": [
            "[ Train | 077/100 ] loss = 0.06271, acc = 0.98969\n"
          ]
        },
        {
          "name": "stderr",
          "output_type": "stream",
          "text": [
            "100%|██████████| 6/6 [00:02<00:00,  2.27it/s]\n",
            "100%|██████████| 25/25 [00:12<00:00,  2.05it/s]\n"
          ]
        },
        {
          "name": "stdout",
          "output_type": "stream",
          "text": [
            "[ Train | 078/100 ] loss = 0.07775, acc = 0.97719\n"
          ]
        },
        {
          "name": "stderr",
          "output_type": "stream",
          "text": [
            "100%|██████████| 6/6 [00:02<00:00,  2.34it/s]\n",
            "100%|██████████| 25/25 [00:12<00:00,  2.01it/s]\n"
          ]
        },
        {
          "name": "stdout",
          "output_type": "stream",
          "text": [
            "[ Train | 079/100 ] loss = 0.08284, acc = 0.97312\n"
          ]
        },
        {
          "name": "stderr",
          "output_type": "stream",
          "text": [
            "100%|██████████| 6/6 [00:02<00:00,  2.41it/s]\n",
            "100%|██████████| 25/25 [00:12<00:00,  2.02it/s]\n"
          ]
        },
        {
          "name": "stdout",
          "output_type": "stream",
          "text": [
            "[ Train | 080/100 ] loss = 0.04143, acc = 0.98594\n"
          ]
        },
        {
          "name": "stderr",
          "output_type": "stream",
          "text": [
            "100%|██████████| 6/6 [00:02<00:00,  2.35it/s]\n",
            "100%|██████████| 25/25 [00:12<00:00,  2.04it/s]\n"
          ]
        },
        {
          "name": "stdout",
          "output_type": "stream",
          "text": [
            "[ Train | 081/100 ] loss = 0.02718, acc = 0.99125\n"
          ]
        },
        {
          "name": "stderr",
          "output_type": "stream",
          "text": [
            "100%|██████████| 6/6 [00:02<00:00,  2.37it/s]\n",
            "100%|██████████| 25/25 [00:12<00:00,  2.06it/s]\n"
          ]
        },
        {
          "name": "stdout",
          "output_type": "stream",
          "text": [
            "[ Train | 082/100 ] loss = 0.02112, acc = 0.99375\n"
          ]
        },
        {
          "name": "stderr",
          "output_type": "stream",
          "text": [
            "100%|██████████| 6/6 [00:02<00:00,  2.34it/s]\n",
            "100%|██████████| 25/25 [00:12<00:00,  2.03it/s]\n"
          ]
        },
        {
          "name": "stdout",
          "output_type": "stream",
          "text": [
            "[ Train | 083/100 ] loss = 0.01113, acc = 0.99625\n"
          ]
        },
        {
          "name": "stderr",
          "output_type": "stream",
          "text": [
            "100%|██████████| 6/6 [00:02<00:00,  2.39it/s]\n",
            "100%|██████████| 25/25 [00:12<00:00,  2.06it/s]\n"
          ]
        },
        {
          "name": "stdout",
          "output_type": "stream",
          "text": [
            "[ Train | 084/100 ] loss = 0.00589, acc = 0.99844\n"
          ]
        },
        {
          "name": "stderr",
          "output_type": "stream",
          "text": [
            "100%|██████████| 6/6 [00:02<00:00,  2.31it/s]\n",
            "100%|██████████| 25/25 [00:12<00:00,  2.05it/s]\n"
          ]
        },
        {
          "name": "stdout",
          "output_type": "stream",
          "text": [
            "[ Train | 085/100 ] loss = 0.00235, acc = 0.99969\n"
          ]
        },
        {
          "name": "stderr",
          "output_type": "stream",
          "text": [
            "100%|██████████| 6/6 [00:02<00:00,  2.34it/s]\n",
            "100%|██████████| 25/25 [00:12<00:00,  2.08it/s]\n"
          ]
        },
        {
          "name": "stdout",
          "output_type": "stream",
          "text": [
            "[ Train | 086/100 ] loss = 0.00171, acc = 0.99969\n"
          ]
        },
        {
          "name": "stderr",
          "output_type": "stream",
          "text": [
            "100%|██████████| 6/6 [00:02<00:00,  2.38it/s]\n",
            "100%|██████████| 25/25 [00:12<00:00,  2.06it/s]\n"
          ]
        },
        {
          "name": "stdout",
          "output_type": "stream",
          "text": [
            "[ Train | 087/100 ] loss = 0.00074, acc = 1.00000\n"
          ]
        },
        {
          "name": "stderr",
          "output_type": "stream",
          "text": [
            "100%|██████████| 6/6 [00:02<00:00,  2.43it/s]\n",
            "100%|██████████| 25/25 [00:12<00:00,  2.04it/s]\n"
          ]
        },
        {
          "name": "stdout",
          "output_type": "stream",
          "text": [
            "[ Train | 088/100 ] loss = 0.00052, acc = 1.00000\n"
          ]
        },
        {
          "name": "stderr",
          "output_type": "stream",
          "text": [
            "100%|██████████| 6/6 [00:02<00:00,  2.28it/s]\n",
            "100%|██████████| 25/25 [00:12<00:00,  2.00it/s]\n"
          ]
        },
        {
          "name": "stdout",
          "output_type": "stream",
          "text": [
            "[ Train | 089/100 ] loss = 0.00233, acc = 1.00000\n"
          ]
        },
        {
          "name": "stderr",
          "output_type": "stream",
          "text": [
            "100%|██████████| 6/6 [00:02<00:00,  2.29it/s]\n",
            "100%|██████████| 25/25 [00:12<00:00,  2.03it/s]\n"
          ]
        },
        {
          "name": "stdout",
          "output_type": "stream",
          "text": [
            "[ Train | 090/100 ] loss = 0.04297, acc = 0.98719\n"
          ]
        },
        {
          "name": "stderr",
          "output_type": "stream",
          "text": [
            "100%|██████████| 6/6 [00:02<00:00,  2.45it/s]\n",
            "100%|██████████| 25/25 [00:12<00:00,  2.03it/s]\n"
          ]
        },
        {
          "name": "stdout",
          "output_type": "stream",
          "text": [
            "[ Train | 091/100 ] loss = 0.03636, acc = 0.98906\n"
          ]
        },
        {
          "name": "stderr",
          "output_type": "stream",
          "text": [
            "100%|██████████| 6/6 [00:02<00:00,  2.39it/s]\n",
            "100%|██████████| 25/25 [00:12<00:00,  2.04it/s]\n"
          ]
        },
        {
          "name": "stdout",
          "output_type": "stream",
          "text": [
            "[ Train | 092/100 ] loss = 0.03471, acc = 0.98781\n"
          ]
        },
        {
          "name": "stderr",
          "output_type": "stream",
          "text": [
            "100%|██████████| 6/6 [00:02<00:00,  2.43it/s]\n",
            "100%|██████████| 25/25 [00:12<00:00,  2.06it/s]\n"
          ]
        },
        {
          "name": "stdout",
          "output_type": "stream",
          "text": [
            "[ Train | 093/100 ] loss = 0.07228, acc = 0.98156\n"
          ]
        },
        {
          "name": "stderr",
          "output_type": "stream",
          "text": [
            "100%|██████████| 6/6 [00:02<00:00,  2.29it/s]\n",
            "100%|██████████| 25/25 [00:12<00:00,  2.07it/s]\n"
          ]
        },
        {
          "name": "stdout",
          "output_type": "stream",
          "text": [
            "[ Train | 094/100 ] loss = 0.09875, acc = 0.97000\n"
          ]
        },
        {
          "name": "stderr",
          "output_type": "stream",
          "text": [
            "100%|██████████| 6/6 [00:02<00:00,  2.37it/s]\n",
            "100%|██████████| 25/25 [00:12<00:00,  2.04it/s]\n"
          ]
        },
        {
          "name": "stdout",
          "output_type": "stream",
          "text": [
            "[ Train | 095/100 ] loss = 0.12898, acc = 0.95719\n"
          ]
        },
        {
          "name": "stderr",
          "output_type": "stream",
          "text": [
            "100%|██████████| 6/6 [00:02<00:00,  2.41it/s]\n",
            "100%|██████████| 25/25 [00:12<00:00,  2.04it/s]\n"
          ]
        },
        {
          "name": "stdout",
          "output_type": "stream",
          "text": [
            "[ Train | 096/100 ] loss = 0.10397, acc = 0.96219\n"
          ]
        },
        {
          "name": "stderr",
          "output_type": "stream",
          "text": [
            "100%|██████████| 6/6 [00:02<00:00,  2.42it/s]\n",
            "100%|██████████| 25/25 [00:12<00:00,  2.05it/s]\n"
          ]
        },
        {
          "name": "stdout",
          "output_type": "stream",
          "text": [
            "[ Train | 097/100 ] loss = 0.12092, acc = 0.96625\n"
          ]
        },
        {
          "name": "stderr",
          "output_type": "stream",
          "text": [
            "100%|██████████| 6/6 [00:02<00:00,  2.29it/s]\n",
            "100%|██████████| 25/25 [00:12<00:00,  2.07it/s]\n"
          ]
        },
        {
          "name": "stdout",
          "output_type": "stream",
          "text": [
            "[ Train | 098/100 ] loss = 0.03982, acc = 0.98844\n"
          ]
        },
        {
          "name": "stderr",
          "output_type": "stream",
          "text": [
            "100%|██████████| 6/6 [00:02<00:00,  2.43it/s]\n",
            "100%|██████████| 25/25 [00:12<00:00,  2.05it/s]\n"
          ]
        },
        {
          "name": "stdout",
          "output_type": "stream",
          "text": [
            "[ Train | 099/100 ] loss = 0.01564, acc = 0.99531\n"
          ]
        },
        {
          "name": "stderr",
          "output_type": "stream",
          "text": [
            "100%|██████████| 6/6 [00:02<00:00,  2.37it/s]\n",
            "100%|██████████| 25/25 [00:12<00:00,  2.04it/s]\n"
          ]
        },
        {
          "name": "stdout",
          "output_type": "stream",
          "text": [
            "[ Train | 100/100 ] loss = 0.00785, acc = 0.99781\n"
          ]
        },
        {
          "name": "stderr",
          "output_type": "stream",
          "text": [
            "100%|██████████| 6/6 [00:02<00:00,  2.41it/s]\n"
          ]
        }
      ],
      "source": [
        "final_acc = []\n",
        "train_final_acc = []\n",
        "epochs = [i+1 for i in range(n_epochs)]\n",
        "best_acc = 0\n",
        "\n",
        "for epoch in range(n_epochs):\n",
        "    # ---------- Training ----------\n",
        "    model.train()\n",
        "\n",
        "    # These are used to record information in training.\n",
        "    train_loss = []\n",
        "    train_accs = []\n",
        "\n",
        "    # Iterate the training set by batches.\n",
        "    for batch in tqdm(train_loader):\n",
        "\n",
        "        imgs, labels = batch\n",
        "\n",
        "        # Forward the data. (Make sure data and model are on the same device.)\n",
        "        logits = model(imgs.to(device))\n",
        "\n",
        "        # Calculate the cross-entropy loss.\n",
        "        loss = criterion(logits, labels.to(device))\n",
        "\n",
        "        # Gradients stored in the parameters in the previous step should be cleared out first.\n",
        "        optimizer.zero_grad()\n",
        "\n",
        "        # Compute the gradients for parameters.\n",
        "        loss.backward()\n",
        "\n",
        "        # Clip the gradient norms for stable training.\n",
        "        grad_norm = nn.utils.clip_grad_norm_(model.parameters(), max_norm=10)\n",
        "\n",
        "        # Update the parameters with computed gradients.\n",
        "        optimizer.step()\n",
        "\n",
        "        # Compute the accuracy for current batch.\n",
        "        acc = (logits.argmax(dim=-1) == labels.to(device)).float().mean()\n",
        "\n",
        "        # Record the loss and accuracy.\n",
        "        train_loss.append(loss.item())\n",
        "        train_accs.append(acc)\n",
        "\n",
        "    # The average loss and accuracy of the training set is the average of the recorded values.\n",
        "    train_loss = sum(train_loss) / len(train_loss)\n",
        "    train_acc = sum(train_accs) / len(train_accs)\n",
        "    train_final_acc.append(train_acc.item())\n",
        "    # Print the information.\n",
        "    print(f\"[ Train | {epoch + 1:03d}/{n_epochs:03d} ] loss = {train_loss:.5f}, acc = {train_acc:.5f}\")\n",
        "\n",
        "    # ---------- Validation ----------\n",
        "    model.eval()\n",
        "\n",
        "    # These are used to record information in validation.\n",
        "    valid_loss = []\n",
        "    valid_accs = []\n",
        "\n",
        "    # Iterate the validation set by batches.\n",
        "    for batch in tqdm(valid_loader):\n",
        "\n",
        "        # A batch consists of image data and corresponding labels.\n",
        "        imgs, labels = batch\n",
        "\n",
        "        # We don't need gradient in validation.\n",
        "        # Using torch.no_grad() accelerates the forward process.\n",
        "        with torch.no_grad():\n",
        "            logits = model(imgs.to(device))\n",
        "\n",
        "        # We can still compute the loss (but not the gradient).\n",
        "        loss = criterion(logits, labels.to(device))\n",
        "\n",
        "        # Compute the accuracy for current batch.\n",
        "        acc = (logits.argmax(dim=-1) == labels.to(device)).float().mean()\n",
        "\n",
        "        # Record the loss and accuracy.\n",
        "        valid_loss.append(loss.item())\n",
        "        valid_accs.append(acc)\n",
        "\n",
        "    # The average loss and accuracy for entire validation set is the average of the recorded values.\n",
        "    valid_loss = sum(valid_loss) / len(valid_loss)\n",
        "    valid_acc = sum(valid_accs) / len(valid_accs)\n",
        "    if len(final_acc) == 0 or valid_acc >= max(final_acc):\n",
        "        best_acc = valid_acc\n",
        "        print(f\"[ BEST Valid acc | {epoch + 1:03d}/{n_epochs:03d} ] loss = {valid_loss:.5f}, acc = {valid_acc:.5f}\")\n",
        "    final_acc.append(valid_acc.item())\n",
        "    torch.save(model.state_dict(), './model.pth')\n",
        "    torch.save(optimizer.state_dict(), './optimizer.pth')"
      ]
    },
    {
      "cell_type": "markdown",
      "metadata": {
        "id": "Tf8swOT9kLAZ"
      },
      "source": [
        "## 结果输出："
      ]
    },
    {
      "cell_type": "code",
      "execution_count": null,
      "metadata": {
        "id": "RPok4OhmkLAZ"
      },
      "outputs": [],
      "source": [
        "fig = plt.figure()\n",
        "plt.plot(epochs, train_final_acc, color='blue')\n",
        "plt.plot(epochs, final_acc, color='red')\n",
        "plt.legend(['Train Acc', 'Test Acc'], loc='upper right')\n",
        "plt.xlabel('Epochs Number')\n",
        "plt.ylabel('Accuracy')\n",
        "plt.title('Accuracy')\n",
        "fig.savefig(\"res.png\")\n",
        "plt.show()\n",
        "\n",
        "\n",
        "with open(\"prediction.csv\", \"w\") as f:\n",
        "    f.write(\"Method,Acc\\n\")\n",
        "    f.write(f\"CNN whith no supervised learning,{best_acc:.3f}\\n\")\n",
        "\n",
        "model.eval()\n",
        "\n",
        "predictions = []\n",
        "\n",
        "for batch in tqdm(test_loader):\n",
        "    imgs, labels = batch\n",
        "\n",
        "    with torch.no_grad():\n",
        "        logits = model(imgs.to(device))\n",
        "\n",
        "    predictions.extend(logits.argmax(dim=-1).cpu().numpy().tolist())\n",
        "\n",
        "with open(\"predict.csv\", \"w\") as f:\n",
        "\n",
        "    f.write(\"Id,Category\\n\")\n",
        "    for i, pred in  enumerate(predictions):\n",
        "        f.write(f\"{i},{pred}\\n\")"
      ]
    }
  ],
  "metadata": {
    "accelerator": "GPU",
    "colab": {
      "machine_shape": "hm",
      "provenance": []
    },
    "kernelspec": {
      "display_name": "Python 3",
      "name": "python3"
    },
    "language_info": {
      "codemirror_mode": {
        "name": "ipython",
        "version": 3
      },
      "file_extension": ".py",
      "mimetype": "text/x-python",
      "name": "python",
      "nbconvert_exporter": "python",
      "pygments_lexer": "ipython3",
      "version": "3.11.4"
    }
  },
  "nbformat": 4,
  "nbformat_minor": 0
}